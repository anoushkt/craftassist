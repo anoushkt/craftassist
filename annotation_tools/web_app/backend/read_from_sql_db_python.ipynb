{
 "cells": [
  {
   "cell_type": "code",
   "execution_count": 1,
   "metadata": {},
   "outputs": [],
   "source": [
    "def create_connection(db_file):\n",
    "    \"\"\" create a database connection to the SQLite database\n",
    "        specified by the db_file\n",
    "    :param db_file: database file\n",
    "    :return: Connection object or None\n",
    "    \"\"\"\n",
    "    conn = None\n",
    "    try:\n",
    "        conn = sqlite3.connect(db_file)\n",
    "    except Error as e:\n",
    "        print(e)\n",
    "\n",
    "    return conn"
   ]
  },
  {
   "cell_type": "code",
   "execution_count": 2,
   "metadata": {},
   "outputs": [],
   "source": [
    "def get_table_and_schema(conn):\n",
    "    cur = conn.cursor()\n",
    "    cur.execute(\"select name from sqlite_master where type = 'table';\")\n",
    "    \n",
    "    rows = cur.fetchall()\n",
    "    print(rows)\n",
    "    cur.execute(\"select sql from sqlite_master where type = 'table' and name = 'data';\")\n",
    "    rows = cur.fetchall()\n",
    "    print(rows)"
   ]
  },
  {
   "cell_type": "code",
   "execution_count": 3,
   "metadata": {},
   "outputs": [],
   "source": [
    "def select_all_tasks(conn):\n",
    "    \"\"\"\n",
    "    Query all rows in the tasks table\n",
    "    :param conn: the Connection object\n",
    "    :return:\n",
    "    \"\"\"\n",
    "    cur = conn.cursor()\n",
    "    '''\n",
    "    schema: error_type, chat, action_dict, feedback\n",
    "    '''\n",
    "    cur.execute(\"SELECT * FROM data\")\n",
    "\n",
    "    rows = cur.fetchall()\n",
    "    \n",
    "    \n",
    "    for row in rows:\n",
    "        print(row)\n",
    "        print()"
   ]
  },
  {
   "cell_type": "code",
   "execution_count": 4,
   "metadata": {},
   "outputs": [],
   "source": [
    "def select_by_error_type(conn, error_type):\n",
    "    \"\"\"\n",
    "    Query tasks by priority\n",
    "    :param conn: the Connection object\n",
    "    :param priority:\n",
    "    :return:\n",
    "    \"\"\"\n",
    "    cur = conn.cursor()\n",
    "    \n",
    "    cur.execute(\"SELECT chat FROM data WHERE error_type=?\", (error_type,))\n",
    "\n",
    "    rows = cur.fetchall()\n",
    "    chats = set()\n",
    "    \n",
    "    for row in rows:\n",
    "        chats.add(row[0])\n",
    "    return list(chats)"
   ]
  },
  {
   "cell_type": "code",
   "execution_count": 5,
   "metadata": {},
   "outputs": [],
   "source": [
    "import sqlite3\n",
    "from sqlite3 import Error\n",
    "\n"
   ]
  },
  {
   "cell_type": "code",
   "execution_count": 8,
   "metadata": {},
   "outputs": [],
   "source": [
    "def main():\n",
    "    database = \"web_app_data.db\"\n",
    "\n",
    "    # create a database connection\n",
    "    conn = create_connection(database)\n",
    "    with conn:\n",
    "#         print(\"1. Query task by priority:\")\n",
    "#         select_task_by_priority(conn, 1)\n",
    "        print(\"1. Querying for table name and schema\")\n",
    "        get_table_and_schema(conn)\n",
    "        print()\n",
    "        \n",
    "        print(\"2. Querying the entire table now \\n\")\n",
    "        select_all_tasks(conn)\n",
    "        print()\n",
    "        \n",
    "        print(\"3. Querying by error type PARSING_ERROR\")\n",
    "        chats = select_by_error_type(conn, 'PARSING_ERROR')\n",
    "        print(chats)"
   ]
  },
  {
   "cell_type": "code",
   "execution_count": 9,
   "metadata": {
    "scrolled": false
   },
   "outputs": [
    {
     "name": "stdout",
     "output_type": "stream",
     "text": [
      "1. Querying for table name and schema\n",
      "[('data',)]\n",
      "[('CREATE TABLE data (\\n      error_type TEXT,\\n      chat TEXT,\\n      action_dict TEXT,\\n      feedback TEXT\\n    )',)]\n",
      "\n",
      "2. Querying the entire table now \n",
      "\n",
      "('PARSING_ERROR', 'build a cube there', '{\"dialogue_type\":\"HUMAN_GIVE_COMMAND\",\"action_sequence\":[{\"location\":{\"contains_coreference\":\"yes\"},\"action_type\":\"BUILD\",\"schematic\":{\"has_name\":\"cube\"}}]}', '')\n",
      "\n",
      "('NOT_IDENTIFIED', 'come here', '{\"dialogue_type\":\"HUMAN_GIVE_COMMAND\",\"action_sequence\":[{\"location\":{\"location_type\":\"SPEAKER_POS\"},\"action_type\":\"MOVE\"}]}', \"you didn't come to where I am\")\n",
      "\n",
      "('PARSING_ERROR', 'build a cube there', '{\"dialogue_type\":\"HUMAN_GIVE_COMMAND\",\"action_sequence\":[{\"location\":{\"contains_coreference\":\"yes\"},\"action_type\":\"BUILD\",\"schematic\":{\"has_name\":\"cube\"}}]}', '')\n",
      "\n",
      "('NOT_IDENTIFIED', 'come here', '{\"dialogue_type\":\"HUMAN_GIVE_COMMAND\",\"action_sequence\":[{\"location\":{\"location_type\":\"SPEAKER_POS\"},\"action_type\":\"MOVE\"}]}', \"you didn't come to where I am\")\n",
      "\n",
      "('PARSING_ERROR', 'come here', '{\"dialogue_type\":\"HUMAN_GIVE_COMMAND\",\"action_sequence\":[{\"location\":{\"location_type\":\"SPEAKER_POS\"},\"action_type\":\"MOVE\"}]}', '')\n",
      "\n",
      "('NOT_IDENTIFIED', 'that is brown', '{\"dialogue_type\":\"PUT_MEMORY\",\"filters\":{\"reference_object\":{\"location\":{\"location_type\":\"SPEAKER_LOOK\"}}},\"upsert\":{\"memory_data\":{\"memory_type\":\"TRIPLE\",\"has_colour\":\"brown\"}}}', '')\n",
      "\n",
      "('PARSING_ERROR', 'come here', '{\"dialogue_type\":\"HUMAN_GIVE_COMMAND\",\"action_sequence\":[{\"location\":{\"location_type\":\"SPEAKER_POS\"},\"action_type\":\"MOVE\"}]}', '')\n",
      "\n",
      "('NOT_IDENTIFIED', 'that is brown', '{\"dialogue_type\":\"PUT_MEMORY\",\"filters\":{\"reference_object\":{\"location\":{\"location_type\":\"SPEAKER_LOOK\"}}},\"upsert\":{\"memory_data\":{\"memory_type\":\"TRIPLE\",\"has_colour\":\"brown\"}}}', '')\n",
      "\n",
      "\n",
      "3. Querying by error type PARSING_ERROR\n",
      "['come here', 'build a cube there']\n"
     ]
    }
   ],
   "source": [
    "main()"
   ]
  },
  {
   "cell_type": "code",
   "execution_count": null,
   "metadata": {},
   "outputs": [],
   "source": []
  }
 ],
 "metadata": {
  "kernelspec": {
   "display_name": "Python 3",
   "language": "python",
   "name": "python3"
  },
  "language_info": {
   "codemirror_mode": {
    "name": "ipython",
    "version": 3
   },
   "file_extension": ".py",
   "mimetype": "text/x-python",
   "name": "python",
   "nbconvert_exporter": "python",
   "pygments_lexer": "ipython3",
   "version": "3.6.8"
  }
 },
 "nbformat": 4,
 "nbformat_minor": 2
}
